{
  "nbformat": 4,
  "nbformat_minor": 0,
  "metadata": {
    "colab": {
      "name": "Data_mining11821.ipynb",
      "provenance": [],
      "collapsed_sections": []
    },
    "kernelspec": {
      "name": "python3",
      "display_name": "Python 3"
    },
    "language_info": {
      "name": "python"
    }
  },
  "cells": [
    {
      "cell_type": "code",
      "execution_count": null,
      "metadata": {
        "id": "zyBIqyxV6Rpc"
      },
      "outputs": [],
      "source": [
        "import numpy as np\n",
        "import matplotlib.pyplot as plt\n",
        "import pandas as pd"
      ]
    },
    {
      "cell_type": "markdown",
      "source": [
        "Numy merupakan library python digunakan untuk komputasi matriks\n",
        "Matplotlib merupakan library python untuk presentasi data berupa grafik atau plot."
      ],
      "metadata": {
        "id": "bq-s_lv67em6"
      }
    },
    {
      "cell_type": "code",
      "source": [
        "dataset = pd.read_csv('Data.csv - Sheet1.csv')\n",
        "x = dataset.iloc[:, :-1].values\n",
        "y = dataset.iloc[:, -1].values"
      ],
      "metadata": {
        "id": "7m0a9ehf71tg"
      },
      "execution_count": null,
      "outputs": []
    },
    {
      "cell_type": "code",
      "source": [
        "print(x)"
      ],
      "metadata": {
        "colab": {
          "base_uri": "https://localhost:8080/"
        },
        "id": "sIZCuJ6D90ze",
        "outputId": "88e0c117-e4c2-482f-ddc6-19cd2670f035"
      },
      "execution_count": null,
      "outputs": [
        {
          "output_type": "stream",
          "name": "stdout",
          "text": [
            "[['Korea' 37.0 77000.0]\n",
            " ['Jepang' 26.0 48000.0]\n",
            " ['Australia' 39.0 55000.0]\n",
            " ['Jepang' 25.0 68000.0]\n",
            " ['Australia' 40.0 nan]\n",
            " ['Korea' 32.0 87000.0]\n",
            " ['Jepang' nan 75000.0]\n",
            " ['Korea' 27.0 79000.0]\n",
            " ['Australia' 50.0 83000.0]\n",
            " ['Korea' 25.0 67000.0]]\n"
          ]
        }
      ]
    },
    {
      "cell_type": "code",
      "source": [
        "print(y)"
      ],
      "metadata": {
        "colab": {
          "base_uri": "https://localhost:8080/"
        },
        "id": "_0yZHrDaFGTO",
        "outputId": "74caa728-5cc6-4ca7-b0a7-91308510cc36"
      },
      "execution_count": null,
      "outputs": [
        {
          "output_type": "stream",
          "name": "stdout",
          "text": [
            "['No' 'Yes' 'No' 'No' 'Yes' 'Yes' 'No' 'Yes' 'No' 'Yes']\n"
          ]
        }
      ]
    },
    {
      "cell_type": "code",
      "source": [
        "from sklearn.impute import SimpleImputer\n",
        "imputer = SimpleImputer(missing_values=np.nan, strategy='mean')\n",
        "imputer.fit(x[:, 1:3])\n",
        "x[:, 1:3] =imputer.transform(x[:, 1:3])\n"
      ],
      "metadata": {
        "id": "3h-W4HgyFOrN"
      },
      "execution_count": null,
      "outputs": []
    },
    {
      "cell_type": "code",
      "source": [
        "print(x)"
      ],
      "metadata": {
        "colab": {
          "base_uri": "https://localhost:8080/"
        },
        "id": "NxrYtNorJ_8C",
        "outputId": "812e23ea-6493-4944-de73-70b5aa657fe0"
      },
      "execution_count": null,
      "outputs": [
        {
          "output_type": "stream",
          "name": "stdout",
          "text": [
            "[['Korea' 37.0 77000.0]\n",
            " ['Jepang' 26.0 48000.0]\n",
            " ['Australia' 39.0 55000.0]\n",
            " ['Jepang' 25.0 68000.0]\n",
            " ['Australia' 40.0 71000.0]\n",
            " ['Korea' 32.0 87000.0]\n",
            " ['Jepang' 33.44444444444444 75000.0]\n",
            " ['Korea' 27.0 79000.0]\n",
            " ['Australia' 50.0 83000.0]\n",
            " ['Korea' 25.0 67000.0]]\n"
          ]
        }
      ]
    },
    {
      "cell_type": "code",
      "source": [
        "from sklearn.compose import ColumnTransformer\n",
        "from sklearn.preprocessing import OneHotEncoder\n",
        "ct = ColumnTransformer(transformers=[('encoder', OneHotEncoder(), [0])], remainder='passthrough')\n",
        "x = np.array(ct.fit_transform(x))"
      ],
      "metadata": {
        "id": "mzADntlON5XB"
      },
      "execution_count": null,
      "outputs": []
    },
    {
      "cell_type": "code",
      "source": [
        "print(x)"
      ],
      "metadata": {
        "colab": {
          "base_uri": "https://localhost:8080/"
        },
        "id": "mMkusNzJPC79",
        "outputId": "93886252-1a1d-461d-cda2-466f45b6a954"
      },
      "execution_count": null,
      "outputs": [
        {
          "output_type": "stream",
          "name": "stdout",
          "text": [
            "[[0.0 0.0 1.0 37.0 77000.0]\n",
            " [0.0 1.0 0.0 26.0 48000.0]\n",
            " [1.0 0.0 0.0 39.0 55000.0]\n",
            " [0.0 1.0 0.0 25.0 68000.0]\n",
            " [1.0 0.0 0.0 40.0 71000.0]\n",
            " [0.0 0.0 1.0 32.0 87000.0]\n",
            " [0.0 1.0 0.0 33.44444444444444 75000.0]\n",
            " [0.0 0.0 1.0 27.0 79000.0]\n",
            " [1.0 0.0 0.0 50.0 83000.0]\n",
            " [0.0 0.0 1.0 25.0 67000.0]]\n"
          ]
        }
      ]
    },
    {
      "cell_type": "code",
      "source": [
        "from sklearn.preprocessing import LabelEncoder\n",
        "le = LabelEncoder()\n",
        "y = le.fit_transform(y)"
      ],
      "metadata": {
        "id": "AmnT17K7PWhc"
      },
      "execution_count": null,
      "outputs": []
    },
    {
      "cell_type": "code",
      "source": [
        "print(y)"
      ],
      "metadata": {
        "colab": {
          "base_uri": "https://localhost:8080/"
        },
        "id": "phKSiteoPpeA",
        "outputId": "71c7c7ad-3cc5-4b95-980b-e1b84603b53e"
      },
      "execution_count": null,
      "outputs": [
        {
          "output_type": "stream",
          "name": "stdout",
          "text": [
            "[0 1 0 0 1 1 0 1 0 1]\n"
          ]
        }
      ]
    },
    {
      "cell_type": "code",
      "source": [
        "from sklearn.model_selection import train_test_split\n",
        "x_train, x_test, y_train, y_test = train_test_split(x,y,test_size=0.2, random_state=1)"
      ],
      "metadata": {
        "id": "OqEN1VaEP8c6"
      },
      "execution_count": null,
      "outputs": []
    },
    {
      "cell_type": "code",
      "source": [
        "print(x_train)"
      ],
      "metadata": {
        "colab": {
          "base_uri": "https://localhost:8080/"
        },
        "id": "r691s3iKQw6X",
        "outputId": "92ccd414-c030-43a1-8c67-708fe57207e5"
      },
      "execution_count": null,
      "outputs": [
        {
          "output_type": "stream",
          "name": "stdout",
          "text": [
            "[[0.0 1.0 0.0 33.44444444444444 75000.0]\n",
            " [1.0 0.0 0.0 40.0 71000.0]\n",
            " [0.0 0.0 1.0 37.0 77000.0]\n",
            " [0.0 1.0 0.0 25.0 68000.0]\n",
            " [0.0 1.0 0.0 26.0 48000.0]\n",
            " [0.0 0.0 1.0 27.0 79000.0]\n",
            " [1.0 0.0 0.0 50.0 83000.0]\n",
            " [0.0 0.0 1.0 32.0 87000.0]]\n"
          ]
        }
      ]
    },
    {
      "cell_type": "code",
      "source": [
        "print(x_test)"
      ],
      "metadata": {
        "colab": {
          "base_uri": "https://localhost:8080/"
        },
        "id": "3nHD1mZ8RI0O",
        "outputId": "6685ec94-c754-4ebd-dbb7-5d316add5961"
      },
      "execution_count": null,
      "outputs": [
        {
          "output_type": "stream",
          "name": "stdout",
          "text": [
            "[[1.0 0.0 0.0 39.0 55000.0]\n",
            " [0.0 0.0 1.0 25.0 67000.0]]\n"
          ]
        }
      ]
    },
    {
      "cell_type": "code",
      "source": [
        "print(y_train)"
      ],
      "metadata": {
        "colab": {
          "base_uri": "https://localhost:8080/"
        },
        "id": "XaYhJqirRNxg",
        "outputId": "4b9e4801-ffe5-49b2-b828-eeea79129f0b"
      },
      "execution_count": null,
      "outputs": [
        {
          "output_type": "stream",
          "name": "stdout",
          "text": [
            "[0 1 0 0 1 1 0 1]\n"
          ]
        }
      ]
    },
    {
      "cell_type": "code",
      "source": [
        "print(y_test)"
      ],
      "metadata": {
        "colab": {
          "base_uri": "https://localhost:8080/"
        },
        "id": "6wNjV8loRSxU",
        "outputId": "be9439bb-9733-4da3-e337-4e9f7a22e0a4"
      },
      "execution_count": null,
      "outputs": [
        {
          "output_type": "stream",
          "name": "stdout",
          "text": [
            "[0 1]\n"
          ]
        }
      ]
    },
    {
      "cell_type": "code",
      "source": [
        "from sklearn.preprocessing import StandardScaler\n",
        "sc = StandardScaler()\n",
        "x_train[:,3:] = sc.fit_transform(x_train[:,3:])\n",
        "x_test[:,3:] = sc.transform(x_test[:,3:])"
      ],
      "metadata": {
        "id": "yCEKDQyYSLcU"
      },
      "execution_count": null,
      "outputs": []
    },
    {
      "cell_type": "code",
      "source": [
        "print(x_train)"
      ],
      "metadata": {
        "colab": {
          "base_uri": "https://localhost:8080/"
        },
        "id": "m2fOmlx3S_c-",
        "outputId": "652e6640-9916-4c41-9d64-dda5a4a55588"
      },
      "execution_count": null,
      "outputs": [
        {
          "output_type": "stream",
          "name": "stdout",
          "text": [
            "[[0.0 1.0 0.0 -0.04572280715031381 0.1338965528032355]\n",
            " [1.0 0.0 0.0 0.7843219995784568 -0.22316092133872592]\n",
            " [0.0 0.0 1.0 0.4044709863296975 0.31242528987421625]\n",
            " [0.0 1.0 0.0 -1.11493306666534 -0.49095402694519696]\n",
            " [0.0 1.0 0.0 -0.9883160622490869 -2.276241397655004]\n",
            " [0.0 0.0 1.0 -0.8616990578328337 0.49095402694519696]\n",
            " [1.0 0.0 0.0 2.0504920437409884 0.8480115010871583]\n",
            " [0.0 0.0 1.0 -0.22861403575156813 1.20506897522912]]\n"
          ]
        }
      ]
    },
    {
      "cell_type": "code",
      "source": [
        "print(x_test)"
      ],
      "metadata": {
        "colab": {
          "base_uri": "https://localhost:8080/"
        },
        "id": "S1aO098MUWsb",
        "outputId": "6fa37cc9-6fbb-4042-ac9b-02adb3d86782"
      },
      "execution_count": null,
      "outputs": [
        {
          "output_type": "stream",
          "name": "stdout",
          "text": [
            "[[1.0 0.0 0.0 39.0 55000.0]\n",
            " [0.0 0.0 1.0 25.0 67000.0]]\n"
          ]
        }
      ]
    }
  ]
}